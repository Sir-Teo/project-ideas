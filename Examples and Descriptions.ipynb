{
 "cells": [
  {
   "cell_type": "code",
   "execution_count": 1,
   "metadata": {},
   "outputs": [],
   "source": [
    "import SchemDraw as schem\n",
    "import SchemDraw.elements as e"
   ]
  },
  {
   "cell_type": "code",
   "execution_count": 21,
   "metadata": {},
   "outputs": [
    {
     "data": {
      "image/png": "[encoded data removed]",
      "text/plain": [
       "<matplotlib.figure.Figure at 0x1106cd2e8>"
      ]
     },
     "metadata": {},
     "output_type": "display_data"
    }
   ],
   "source": [
    "'''\n",
    "For the circuit below, I would describe it with these symbols\n",
    "\n",
    "start    battery     10V\n",
    "left     resistor    98K$$\\Omega$$ \n",
    "up       capacitor   88$$\\mu$$C\n",
    "right    line\n",
    "right    line\n",
    "down     switch\n",
    "down     LED\n",
    "\n",
    "'''\n",
    "d = schem.Drawing()\n",
    "V1 = d.add(e.SOURCE_V, label='10V')\n",
    "d.add(e.RES, d = 'left', label = '98K$\\Omega$')\n",
    "d.add(e.CAP, d = 'up', label = '88$\\mu$C')\n",
    "d.add(e.LINE, d = 'right')\n",
    "d.add(e.LINE)\n",
    "d.add(e.SWITCH_SPST, d = 'down')\n",
    "d.add(e.LED, d = 'down')\n",
    "d.add(e.LINE, to = V1.start)\n",
    "d.draw()"
   ]
  },
  {
   "cell_type": "code",
   "execution_count": null,
   "metadata": {},
   "outputs": [],
   "source": []
  }
 ],
 "metadata": {
  "kernelspec": {
   "display_name": "Python 3",
   "language": "python",
   "name": "python3"
  },
  "language_info": {
   "codemirror_mode": {
    "name": "ipython",
    "version": 3
   },
   "file_extension": ".py",
   "mimetype": "text/x-python",
   "name": "python",
   "nbconvert_exporter": "python",
   "pygments_lexer": "ipython3",
   "version": "3.6.4"
  }
 },
 "nbformat": 4,
 "nbformat_minor": 2
}
