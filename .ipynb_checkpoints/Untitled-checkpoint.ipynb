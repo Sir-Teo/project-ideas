{
 "cells": [
  {
   "cell_type": "code",
   "execution_count": 1,
   "metadata": {},
   "outputs": [
    {
     "ename": "ModuleNotFoundError",
     "evalue": "No module named 'SchemDraw'",
     "output_type": "error",
     "traceback": [
      "\u001b[0;31m---------------------------------------------------------------------------\u001b[0m",
      "\u001b[0;31mModuleNotFoundError\u001b[0m                       Traceback (most recent call last)",
      "\u001b[0;32m<ipython-input-1-caec750a9fbc>\u001b[0m in \u001b[0;36m<module>\u001b[0;34m()\u001b[0m\n\u001b[0;32m----> 1\u001b[0;31m \u001b[0;32mimport\u001b[0m \u001b[0mSchemDraw\u001b[0m \u001b[0;32mas\u001b[0m \u001b[0mschem\u001b[0m\u001b[0;34m\u001b[0m\u001b[0m\n\u001b[0m\u001b[1;32m      2\u001b[0m \u001b[0;32mimport\u001b[0m \u001b[0mSchemDraw\u001b[0m\u001b[0;34m.\u001b[0m\u001b[0melements\u001b[0m \u001b[0;32mas\u001b[0m \u001b[0me\u001b[0m\u001b[0;34m\u001b[0m\u001b[0m\n\u001b[1;32m      3\u001b[0m \u001b[0md\u001b[0m \u001b[0;34m=\u001b[0m \u001b[0mschem\u001b[0m\u001b[0;34m.\u001b[0m\u001b[0mDrawing\u001b[0m\u001b[0;34m(\u001b[0m\u001b[0;34m)\u001b[0m\u001b[0;34m\u001b[0m\u001b[0m\n\u001b[1;32m      4\u001b[0m \u001b[0;31m#V1 = d.add(e.SOURCE_V, label='9.8V')\u001b[0m\u001b[0;34m\u001b[0m\u001b[0;34m\u001b[0m\u001b[0m\n\u001b[1;32m      5\u001b[0m \u001b[0mR1\u001b[0m \u001b[0;34m=\u001b[0m \u001b[0md\u001b[0m\u001b[0;34m.\u001b[0m\u001b[0madd\u001b[0m\u001b[0;34m(\u001b[0m\u001b[0me\u001b[0m\u001b[0;34m.\u001b[0m\u001b[0mRES\u001b[0m\u001b[0;34m,\u001b[0m \u001b[0md\u001b[0m\u001b[0;34m=\u001b[0m\u001b[0;34m'up'\u001b[0m\u001b[0;34m,\u001b[0m \u001b[0mbotlabel\u001b[0m\u001b[0;34m=\u001b[0m\u001b[0;34m'0.22M$\\Omega$'\u001b[0m\u001b[0;34m)\u001b[0m\u001b[0;34m\u001b[0m\u001b[0m\n",
      "\u001b[0;31mModuleNotFoundError\u001b[0m: No module named 'SchemDraw'"
     ]
    }
   ],
   "source": [
    "import SchemDraw as schem\n",
    "import SchemDraw.elements as e\n",
    "d = schem.Drawing()\n",
    "#V1 = d.add(e.SOURCE_V, label='9.8V')\n",
    "R1 = d.add(e.RES, d='up', botlabel='0.22M$\\Omega$')\n",
    "d.add(e.DOT)\n",
    "d.add(e.LINE, d='left')\n",
    "C1 = d.add(e.CAP, d='down', label=\"47$\\mu$F\")\n",
    "d.add(e.LINE, d='right')\n",
    "d.add(e.DOT)\n",
    "d.add(e.LINE)\n",
    "d.add(e.METER_V, d='up')\n",
    "d.add(e.LINE, d='left')\n",
    "#draw the graph\n",
    "d.draw()\n",
    "#save it!\n",
    "#d.save('Physics Lab 6.eps')"
   ]
  },
  {
   "cell_type": "code",
   "execution_count": null,
   "metadata": {},
   "outputs": [],
   "source": []
  }
 ],
 "metadata": {
  "kernelspec": {
   "display_name": "Python 3",
   "language": "python",
   "name": "python3"
  },
  "language_info": {
   "codemirror_mode": {
    "name": "ipython",
    "version": 3
   },
   "file_extension": ".py",
   "mimetype": "text/x-python",
   "name": "python",
   "nbconvert_exporter": "python",
   "pygments_lexer": "ipython3",
   "version": "3.6.4"
  }
 },
 "nbformat": 4,
 "nbformat_minor": 2
}
